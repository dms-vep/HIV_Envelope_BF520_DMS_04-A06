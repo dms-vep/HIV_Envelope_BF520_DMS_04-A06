{
 "cells": [
  {
   "cell_type": "markdown",
   "id": "89940fdd-4c3d-4588-b0b6-57d72c2e4a8c",
   "metadata": {},
   "source": [
    "# Correlate effects of mutations on escape from antibodies\n",
    "\n",
    "Make correlation plots of the effects of mutations on antibody escape. \n",
    "\n",
    "Import python modules: "
   ]
  },
  {
   "cell_type": "code",
   "execution_count": null,
   "id": "5ee14286-054b-4430-9000-dfec47207cfe",
   "metadata": {},
   "outputs": [],
   "source": [
    "import pandas as pd\n",
    "from scipy import stats\n",
    "import altair as alt"
   ]
  },
  {
   "cell_type": "markdown",
   "id": "08e8c397-5f30-4741-9bec-7ed3de92fb7b",
   "metadata": {},
   "source": [
    "Read the data: "
   ]
  },
  {
   "cell_type": "code",
   "execution_count": null,
   "id": "a0484852-d872-4ee9-8591-24184481a913",
   "metadata": {},
   "outputs": [],
   "source": [
    "# only correlate non stop codon mutations at sites that were targeted for mutation\n",
    "sites_to_show = [str(x) for x in range(30, 702)]\n",
    "df_1_18 = (pd.read_csv('results/antibody_escape/averages/1-18_mut_effect.csv')\n",
    "           .query('site in @sites_to_show')\n",
    "           .query('mutant!=\"*\"')\n",
    "           [['escape_mean', 'mutation', 'times_seen']]\n",
    "          )\n",
    "df_3BNC117 = (pd.read_csv('results/antibody_escape/averages/3BNC117_mut_effect.csv')\n",
    "              .query('site in @sites_to_show')\n",
    "              .query('mutant!=\"*\"')\n",
    "              [['escape_mean', 'mutation', 'times_seen']]\n",
    "             )\n",
    "df_04A06 = (pd.read_csv('results/antibody_escape/averages/04-A06_mut_effect.csv')\n",
    "            .query('site in @sites_to_show')\n",
    "            .query('mutant!=\"*\"')\n",
    "            [['escape_mean', 'mutation', 'times_seen']]\n",
    "           )"
   ]
  },
  {
   "cell_type": "markdown",
   "id": "46f21a16-341b-42b0-9c4e-9cacad832f0b",
   "metadata": {},
   "source": [
    "Correlate 1-18 and 04-A06 escape:"
   ]
  },
  {
   "cell_type": "code",
   "execution_count": null,
   "id": "2e2e7e0d-0f33-47d6-8204-d779ae20cd97",
   "metadata": {},
   "outputs": [],
   "source": [
    "df_1_18['1-18 escape effect'] = df_1_18['escape_mean']\n",
    "df_04A06['04-A06 escape effect'] = df_04A06['escape_mean']\n",
    "A06_vs_1_18 = (df_04A06\n",
    "               .drop(columns=['escape_mean'])\n",
    "               .copy()\n",
    "               .merge(df_1_18.drop(columns=['escape_mean']), on=['mutation'])\n",
    "              )\n",
    "\n",
    "slope, intercept, r_value, p_value, std_err = stats.linregress(\n",
    "        A06_vs_1_18.query('times_seen_x>3')['1-18 escape effect'].astype(float),\n",
    "        A06_vs_1_18.query('times_seen_x>3')['04-A06 escape effect'].astype(float))\n",
    "\n",
    "corr_chart = (\n",
    "alt.Chart(A06_vs_1_18.query('times_seen_x>3'))\n",
    "    .encode(\n",
    "        x=alt.X('04-A06 escape effect',\n",
    "                scale=alt.Scale(domain=[-1.1, 2.5]),\n",
    "               ),\n",
    "        y=alt.Y(\n",
    "            '1-18 escape effect',\n",
    "            scale=alt.Scale(domain=[-1.1, 2.5]),\n",
    "        ),\n",
    "        tooltip=[\n",
    "            alt.Tooltip(c, format=\".3g\") if A06_vs_1_18[c].dtype == float\n",
    "            else c\n",
    "            for c in A06_vs_1_18.columns]\n",
    "    )\n",
    ".mark_circle(filled=True, size=60, opacity=0.4)\n",
    ".configure_axis(grid=False)\n",
    ".properties(width=200, height=200)\n",
    ")\n",
    "print(f\"R^2: {r_value**2}\")\n",
    "print(f\"R: {r_value}\")\n",
    "corr_chart"
   ]
  },
  {
   "cell_type": "markdown",
   "id": "486c2648-09c2-450d-bfa0-3e7e4f1dad72",
   "metadata": {},
   "source": [
    "Correlate 3BNC117 and 04-A06 escape: "
   ]
  },
  {
   "cell_type": "code",
   "execution_count": null,
   "id": "d1846862-c8f8-473b-8328-e34a237256d7",
   "metadata": {},
   "outputs": [],
   "source": [
    "df_3BNC117['3BNC117 escape effect'] = df_3BNC117['escape_mean']\n",
    "A06_vs_3BNC117 = (df_04A06\n",
    "               .drop(columns=['escape_mean'])\n",
    "               .copy()\n",
    "               .merge(df_3BNC117.drop(columns=['escape_mean']), on=['mutation'])\n",
    "              )\n",
    "\n",
    "slope, intercept, r_value, p_value, std_err = stats.linregress(\n",
    "        A06_vs_3BNC117.query('times_seen_x>3')['3BNC117 escape effect'].astype(float),\n",
    "        A06_vs_3BNC117.query('times_seen_x>3')['04-A06 escape effect'].astype(float))\n",
    "\n",
    "corr_chart = (\n",
    "alt.Chart(A06_vs_3BNC117.query('times_seen_x>3'))\n",
    "    .encode(\n",
    "        x=alt.X('04-A06 escape effect',\n",
    "            scale=alt.Scale(domain=[-1.1, 2.5]),\n",
    "               ),\n",
    "        y=alt.Y(\n",
    "            '3BNC117 escape effect',\n",
    "            scale=alt.Scale(domain=[-1.1, 2.5]),\n",
    "        ),\n",
    "        tooltip=[\n",
    "            alt.Tooltip(c, format=\".3g\") if A06_vs_3BNC117[c].dtype == float\n",
    "            else c\n",
    "            for c in A06_vs_3BNC117.columns]\n",
    "    )\n",
    ".mark_circle(filled=True, size=60, opacity=0.4)\n",
    ".configure_axis(grid=False)\n",
    ".properties(width=200, height=200)\n",
    ")\n",
    "print(f\"R^2: {r_value**2}\")\n",
    "print(f\"R: {r_value}\")\n",
    "corr_chart"
   ]
  },
  {
   "cell_type": "code",
   "execution_count": null,
   "id": "b2d07ccd-a69b-43f6-8095-3870ef52e911",
   "metadata": {},
   "outputs": [],
   "source": []
  }
 ],
 "metadata": {
  "kernelspec": {
   "display_name": "Python 3 (ipykernel)",
   "language": "python",
   "name": "python3"
  },
  "language_info": {
   "codemirror_mode": {
    "name": "ipython",
    "version": 3
   },
   "file_extension": ".py",
   "mimetype": "text/x-python",
   "name": "python",
   "nbconvert_exporter": "python",
   "pygments_lexer": "ipython3",
   "version": "3.11.4"
  }
 },
 "nbformat": 4,
 "nbformat_minor": 5
}
